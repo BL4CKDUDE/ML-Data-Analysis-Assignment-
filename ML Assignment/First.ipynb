{
 "cells": [
  {
   "cell_type": "code",
   "execution_count": 195,
   "metadata": {},
   "outputs": [],
   "source": [
    "import numpy as np\n",
    "import random"
   ]
  },
  {
   "cell_type": "markdown",
   "metadata": {},
   "source": [
    "Read In Data"
   ]
  },
  {
   "cell_type": "code",
   "execution_count": 196,
   "metadata": {},
   "outputs": [],
   "source": [
    "Data_File = open('Admissions.txt','r') #open the file contents\n",
    "Data_String = Data_File.read() # read the contents into a string\n",
    "full_data = Data_String.splitlines()# storing each datapoint into a list\n",
    "random.shuffle(full_data) # for random sampling of training, validation and testing data"
   ]
  },
  {
   "cell_type": "markdown",
   "metadata": {},
   "source": [
    "Analysing and processing the Data\n",
    "First we will remove our first column"
   ]
  },
  {
   "cell_type": "code",
   "execution_count": 202,
   "metadata": {},
   "outputs": [],
   "source": [
    "new_full_data = []\n",
    "for i in range(len(full_data)): # removing the first column from the full data\n",
    "    list = full_data[i].split(\",\")\n",
    "    list.pop(0)\n",
    "    str = \"\"\n",
    "    for i in range(len(list)):\n",
    "        str = str + list[i] \n",
    "        if(i < (len(list)-1)):\n",
    "            str = str + \",\"\n",
    "    list = []\n",
    "    new_full_data.append(str)\n",
    "\n",
    "data_adjust = [] # to store the new adjusted data\n",
    "for i in range(len(new_full_data)): # normalising our targets from being continuos to being either 0 or 1 with 0.5 as the threshold\n",
    "    list = new_full_data[i].split(\",\")\n",
    "    Chance = list[-1] \n",
    "    if(float(Chance) > 0.5):  # the deciding value/ threshold is 0.5\n",
    "        Chance = \"1\"\n",
    "    else:\n",
    "        Chance = \"0\"\n",
    "    list[-1] = Chance\n",
    "    str = \"\"\n",
    "    for i in range(len(list)):\n",
    "        str = str + list[i] \n",
    "        if(i < (len(list)-1)):\n",
    "            str = str + \",\"\n",
    "    list = []\n",
    "    data_adjust.append(str)  # new adusted data is stored in data_adjust\n",
    "\n",
    "\n",
    "    "
   ]
  },
  {
   "cell_type": "markdown",
   "metadata": {},
   "source": [
    "DIVIDING THE DATA\n",
    "\n",
    "240 data points- Training data.\n",
    "\n",
    "80 data points- Validation data.\n",
    "\n",
    "80 data points- Test data."
   ]
  },
  {
   "cell_type": "code",
   "execution_count": 203,
   "metadata": {},
   "outputs": [],
   "source": [
    "training_data =  data_adjust[:240]\n",
    "validation_data = data_adjust[240:320]\n",
    "test_data = data_adjust[320:400]"
   ]
  },
  {
   "cell_type": "markdown",
   "metadata": {},
   "source": [
    "PREDICTION ALGORITHM 1 : LINEAR REGRESSION"
   ]
  },
  {
   "cell_type": "code",
   "execution_count": null,
   "metadata": {},
   "outputs": [],
   "source": []
  }
 ],
 "metadata": {
  "kernelspec": {
   "display_name": "Python 3",
   "language": "python",
   "name": "python3"
  },
  "language_info": {
   "codemirror_mode": {
    "name": "ipython",
    "version": 3
   },
   "file_extension": ".py",
   "mimetype": "text/x-python",
   "name": "python",
   "nbconvert_exporter": "python",
   "pygments_lexer": "ipython3",
   "version": "3.7.3"
  }
 },
 "nbformat": 4,
 "nbformat_minor": 4
}
